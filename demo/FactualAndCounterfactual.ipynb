{
 "cells": [
  {
   "cell_type": "code",
   "execution_count": 1,
   "id": "3a72def2",
   "metadata": {},
   "outputs": [],
   "source": [
    "%load_ext autoreload\n",
    "%autoreload 2"
   ]
  },
  {
   "cell_type": "code",
   "execution_count": 3,
   "id": "4d0b9748",
   "metadata": {},
   "outputs": [],
   "source": [
    "import os, sys\n",
    "from tqdm import tqdm\n",
    "from PIL import Image\n",
    "import matplotlib.pyplot as plt\n",
    "import numpy as np\n",
    "import torch\n",
    "import torchvision"
   ]
  },
  {
   "cell_type": "code",
   "execution_count": 6,
   "id": "d9bdeac4",
   "metadata": {},
   "outputs": [],
   "source": [
    "import cwm.models.VideoMAE.vmae as vmae"
   ]
  },
  {
   "cell_type": "code",
   "execution_count": 9,
   "id": "537e5d22",
   "metadata": {},
   "outputs": [
    {
     "name": "stdout",
     "output_type": "stream",
     "text": [
      "NUM PATCHES IN ENCODER 1568\n",
      "92661312\n"
     ]
    }
   ],
   "source": [
    "model = vmae.base_8x8patch_2frames_1tube(use_flash_attention=False)\n",
    "model.eval().requires_grad_(False)\n",
    "print(sum([v.numel() for v in model.parameters()]))"
   ]
  },
  {
   "cell_type": "code",
   "execution_count": 18,
   "id": "32819189",
   "metadata": {},
   "outputs": [],
   "source": [
    "device = 'cpu'\n",
    "x = torch.rand((1,3,2,224,224)).to(device)\n",
    "mask = torch.cat([torch.zeros((1, 784)), torch.ones((1, 784))], -1).bool().to(x.device)\n",
    "\n",
    "model = model.to(device)\n",
    "\n",
    "y = model(x, mask)"
   ]
  },
  {
   "cell_type": "code",
   "execution_count": 19,
   "id": "1f2ac488",
   "metadata": {},
   "outputs": [
    {
     "data": {
      "text/plain": [
       "torch.Size([1, 784, 192])"
      ]
     },
     "execution_count": 19,
     "metadata": {},
     "output_type": "execute_result"
    }
   ],
   "source": [
    "y.shape"
   ]
  },
  {
   "cell_type": "code",
   "execution_count": null,
   "id": "6ba39d19",
   "metadata": {},
   "outputs": [],
   "source": []
  }
 ],
 "metadata": {
  "kernelspec": {
   "display_name": "Python 3 (ipykernel)",
   "language": "python",
   "name": "python3"
  },
  "language_info": {
   "codemirror_mode": {
    "name": "ipython",
    "version": 3
   },
   "file_extension": ".py",
   "mimetype": "text/x-python",
   "name": "python",
   "nbconvert_exporter": "python",
   "pygments_lexer": "ipython3",
   "version": "3.8.16"
  }
 },
 "nbformat": 4,
 "nbformat_minor": 5
}
